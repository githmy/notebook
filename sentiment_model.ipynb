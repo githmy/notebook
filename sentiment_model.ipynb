{
 "cells": [
  {
   "cell_type": "markdown",
   "metadata": {},
   "source": [
    "## 情感模型\n",
    "### 基于词典的情感，打分情感分析模型\n",
    "- 1.加载情感词词典，否定词词典，程度副词词典，\n",
    "- 2.分词，并返回分词后的列表\n",
    "- 3.用列表存储，情感词、否定词、程度副词的索引位置\n",
    "- 4.对句子进行打分"
   ]
  },
  {
   "cell_type": "code",
   "execution_count": 1,
   "metadata": {
    "collapsed": true
   },
   "outputs": [],
   "source": [
    "from collections import defaultdict\n",
    "import os\n",
    "import re\n",
    "import jieba\n",
    "import codecs"
   ]
  },
  {
   "cell_type": "code",
   "execution_count": 2,
   "metadata": {
    "collapsed": true
   },
   "outputs": [],
   "source": [
    "#修改各词库的路径\n",
    "stopword_path = 'data/stop_words.txt'\n",
    "degreeword_path = 'data/degreewords.txt'\n",
    "sentimentword_path = 'data/BosonNLP_sentiment_score_keep.txt'"
   ]
  },
  {
   "cell_type": "code",
   "execution_count": 21,
   "metadata": {},
   "outputs": [],
   "source": [
    "#加载新词库\n",
    "def reload_dict(stopword_path,degreeword_path,sentimentword_path):\n",
    "    \"\"\"\n",
    "加载返回基础词典\n",
    "Agruments:\n",
    "stopword_path --停用词词典目录\n",
    "degreeword_path --程度副词的目录\n",
    "sentimentword_path --情感词目录\n",
    "Returns：\n",
    "stopswords --列表形式的停用词\n",
    "degree_dict --程度副词词典及其分数\n",
    "sentiment_dict --情感词及其强度值字典格式。\n",
    "notword --否定词列表\n",
    "\"\"\"\n",
    "    jieba.load_userdict('data/stock_dict.txt')\n",
    "      \n",
    "      # 停用词列表\n",
    "    stopword_file = open(stopword_path,\"r\").readlines()\n",
    "    stopwords = [word.replace(\"\\n\",\"\") for word in stopword_file]\n",
    "      \n",
    "      #否定词表\n",
    "    notword = [u'不',u'没',u'无',u'非',u'莫',u'弗',u'勿',u'毋',u'未',u'否',u'别',u'無',u'休',u'难道']\n",
    "      \n",
    "      #程度词表\n",
    "    degreeword_file = open(degreeword_path).readlines()\n",
    "    degree_dict = {}\n",
    "    for word in degreeword_file:\n",
    "        word = word.replace(\"\\n\",\"\").split(\" \")\n",
    "        degree_dict[word[0]] = word[1]\n",
    "          \n",
    "      #情感词表\n",
    "      \n",
    "    sentimentword_file = open(sentimentword_path).readlines()\n",
    "    sentiment_dict = {}\n",
    "    for word in sentimentword_file:\n",
    "        word = word.replace(\"\\n\",\"\").split(\",\")\n",
    "        sentiment_dict[word[0]] = word[1]\n",
    "    return stopwords,degree_dict,sentiment_dict,notword"
   ]
  },
  {
   "cell_type": "code",
   "execution_count": 15,
   "metadata": {},
   "outputs": [
    {
     "name": "stdout",
     "output_type": "stream",
     "text": [
      "The function sent2word is defined\n"
     ]
    }
   ],
   "source": [
    "def sent2wordloc(sentence,del_stop=False,stopwords=None):\n",
    "    \"\"\"\n",
    "    输入句子进行切分\n",
    "    Agruments：\n",
    "    sentence --一段文本\n",
    "    del_stop --是否去除停用词，默认为FALSE\n",
    "    stopwords --停用词库，在del_stop为TRUE情况下进行设置\n",
    "    Returns：\n",
    "    wordlist --分词后结果列表\n",
    "    \"\"\"\n",
    "    \n",
    "    wordlist = []\n",
    "    if del_stop:\n",
    "        wordlist = [word for word in jieba.cut(sentence) if word not in stopwords]\n",
    "    else:\n",
    "        wordlist = [word for word in jieba.cut(sentence)]\n",
    "    \n",
    "    return wordlist\n",
    "print(\"The function sent2word is defined\")"
   ]
  },
  {
   "cell_type": "code",
   "execution_count": 16,
   "metadata": {},
   "outputs": [
    {
     "name": "stdout",
     "output_type": "stream",
     "text": [
      "The function wordclassify is defined\n"
     ]
    }
   ],
   "source": [
    "def wordclassify(wordlist,sentiment_dict,notword,degree_dict):\n",
    "    \"\"\"\n",
    "    获得各个词性的位置\n",
    "    Arguments:\n",
    "    wordlist --列表形式，是分词后的结果\n",
    "    sentiment_dict --字典形式，是情感词及其强度值\n",
    "    notword --列表形式，否定词字典\n",
    "    degree_dict --字典形式，程度副词及其强度值\n",
    "    Returns：\n",
    "    sentimentloc --情感所在wordlist列表的位置\n",
    "    notloc --否定词所在的位置\n",
    "    degreeloc --程度副词所在的位置\n",
    "    othersloc --其他词所在的位置\n",
    "    \"\"\"\n",
    "    sentimentloc, notloc, degreeloc, othersloc = [], [], [], []\n",
    "    for i in range(len(wordlist)):\n",
    "        word=wordlist[i]\n",
    "        if word in sentiment_dict.keys() and word not in notword and word not in degree_dict.keys():\n",
    "            sentimentloc.append(i)\n",
    "        elif word in notword and word not in degree_dict.keys():\n",
    "            notloc.append(i)\n",
    "        elif word in degree_dict.keys():\n",
    "            degreeloc.append(i)\n",
    "        else:\n",
    "            othersloc.append(i)\n",
    "    return sentimentloc, notloc, degreeloc, othersloc\n",
    "print(\"The function wordclassify is defined\")"
   ]
  },
  {
   "cell_type": "markdown",
   "metadata": {},
   "source": [
    "### 打分逻辑\n",
    "- 首先定位情感词，从情感词往前进行，查找。如果遇到否定词，情感值为情感强度值乘以-1，情感极性改变。\n",
    "- 定位程度副词，如果有程度副词，乘以相应的程度强度。\n",
    "- 判断程度副词和否定词在一块情况下的，位置的先后顺序，如果在否定词在前，对原来情感强度有减弱的作用，这里乘以0.75，如果是在程度副词之后\n",
    "具有加强的作用，乘以1.25。"
   ]
  },
  {
   "cell_type": "code",
   "execution_count": 26,
   "metadata": {},
   "outputs": [
    {
     "name": "stdout",
     "output_type": "stream",
     "text": [
      "The function sentscore is defined\n"
     ]
    }
   ],
   "source": [
    "def sentscore(wordlist,sentimentloc,notloc,degreeloc,othersloc):\n",
    "    \"\"\"\n",
    "    对句子进行评分\n",
    "    Arguments:\n",
    "    wordlist --列表形式，分词后的词语列表\n",
    "    sentimentloc --列表形式，表示情感词在wordlist位置的列表\n",
    "    notloc --列表形式，表示否定词在wordlist位置的列表\n",
    "    degreeloc --列表形式，表示程度副词在wordlist位置列表\n",
    "    othersloc --列表形式，表示其他词在wordlist的位置列表\n",
    "    \"\"\"\n",
    "    score = 0\n",
    "    for i in range(len(sentimentloc)):\n",
    "        w = 1\n",
    "        index = sentimentloc[i]\n",
    "        j_no = -1\n",
    "        j_fu = -1\n",
    "        if i==0:\n",
    "            for j in range(0,sentimentloc[i]):\n",
    "                if j in notloc:\n",
    "                    j_no = j\n",
    "                    w *= -1\n",
    "                    print('now',w)\n",
    "                elif j in degreeloc:\n",
    "                    j_fu = j\n",
    "                    w *= float(degree_dict[wordlist[j]])\n",
    "        else:\n",
    "            if index > 0 :\n",
    "                for j in range(sentimentloc[i-1]+1,sentimentloc[i]):\n",
    "                    if j in notloc:\n",
    "                        j_no = j\n",
    "                        w *= -1\n",
    "                    elif j in degreeloc:\n",
    "                        j_fu = j\n",
    "                        w *= float(degree_dict[wordlist[j]])\n",
    "        if j_no > j_fu and j_no != -1 and j_fu != -1:\n",
    "            score += w*float(sentiment_dict[wordlist[index]])*1.25  #否定词在程度副词后\n",
    "        elif j_no < j_fu and j_no != -1 and j_fu != -1:\n",
    "            score += w*float(sentiment_dict[wordlist[index]])*0.75/(float(degree_dict[wordlist[j_fu]])) #否定词在程度副词之前\n",
    "        else:\n",
    "            score += w*float(sentiment_dict[wordlist[index]])\n",
    "    return score\n",
    "print(\"The function sentscore is defined\")"
   ]
  },
  {
   "cell_type": "code",
   "execution_count": 33,
   "metadata": {},
   "outputs": [
    {
     "name": "stdout",
     "output_type": "stream",
     "text": [
      "-0.0882736861581\n"
     ]
    }
   ],
   "source": [
    "s3='重磅！中国对美国128项进口商品加征关税(附清单)'\n",
    "stopswords,degree_dict,sentiment_dict,notword = reload_dict(stopword_path,degreeword_path,sentimentword_path)\n",
    "wordlist = sent2wordloc(s3)\n",
    "sentimentloc, notloc, degreeloc, othersloc=wordclassify(wordlist,sentiment_dict,notword,degree_dict)\n",
    "a3 = sentscore(wordlist,sentimentloc, notloc, degreeloc,othersloc)\n",
    "print(a3)"
   ]
  },
  {
   "cell_type": "code",
   "execution_count": null,
   "metadata": {
    "collapsed": true
   },
   "outputs": [],
   "source": [
    ""
   ]
  }
 ],
 "metadata": {
  "kernelspec": {
   "display_name": "Python 3",
   "language": "python",
   "name": "python3"
  },
  "language_info": {
   "codemirror_mode": {
    "name": "ipython",
    "version": 3.0
   },
   "file_extension": ".py",
   "mimetype": "text/x-python",
   "name": "python",
   "nbconvert_exporter": "python",
   "pygments_lexer": "ipython3",
   "version": "3.6.1"
  }
 },
 "nbformat": 4,
 "nbformat_minor": 0
}