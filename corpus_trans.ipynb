{
 "cells": [
  {
   "cell_type": "code",
   "execution_count": null,
   "metadata": {},
   "outputs": [],
   "source": []
  },
  {
   "cell_type": "code",
   "execution_count": 6,
   "metadata": {},
   "outputs": [],
   "source": [
    "import numpy as np # linear algebra\n",
    "import pandas as pd # data processing, CSV file I/O (e.g. pd.read_csv)\n",
    "import jieba\n",
    "import glob\n",
    "import copy\n",
    "import time\n",
    "import openpyxl"
   ]
  },
  {
   "cell_type": "code",
   "execution_count": 7,
   "metadata": {},
   "outputs": [
    {
     "name": "stdout",
     "output_type": "stream",
     "text": [
      "10000num.csv\n",
      "10000num_delete_dict_.txt\n",
      "10000num_predict.csv\n",
      "10000num_predict_result.csv\n",
      "10000num_replace_dict_.txt\n",
      "10000num_stop_dict_.txt\n",
      "10000num_train.csv\n",
      "10000num_user_dict_.txt\n",
      "baseline.csv\n",
      "sematic_label_train.csv\n",
      "sematic_train.csv\n",
      "test_alll.csv\n",
      "test.csv\n",
      "train.csv\n",
      "\n",
      "comment.xlsx\n",
      "sample150.csv\n",
      "seg.txt\n",
      "sematic_train.txt\n",
      "sematic_train.xlsx\n",
      "zpl_txnewout_zl_pl.txt\n",
      "\n"
     ]
    }
   ],
   "source": [
    "from subprocess import check_output\n",
    "patho = '../corpus/'\n",
    "patht = '../nocode/'\n",
    "inp = 'input/testproject/'\n",
    "oup = 'output/testproject/'\n",
    "logp = 'logs/testproject/'\n",
    "modp = 'models/testproject/'\n",
    "\n",
    "print(check_output([\"ls\", patht + inp]).decode(\"utf8\"))\n",
    "print(check_output([\"ls\", patho]).decode(\"utf8\"))"
   ]
  },
  {
   "cell_type": "markdown",
   "metadata": {},
   "source": [
    "### 1. 随机取样"
   ]
  },
  {
   "cell_type": "code",
   "execution_count": 8,
   "metadata": {},
   "outputs": [],
   "source": [
    "CSV_DATA_FILEo = patho + 'zpl_txnewout_zl_pl.txt'\n",
    "XLSX_DATA_FILEo = patho + 'comment.xlsx'\n",
    "CSV_DATA_FILEt = patho + 'sample150.csv'\n",
    "XLSX_DATA_FILEt = patho + 'sample150.xlsx'\n",
    "# 列的提取\n",
    "pddata = pd.read_excel(io=XLSX_DATA_FILEo, sheet_name='Sheet1', header=0)\n",
    "indexarr = np.arange(pddata.shape[0])\n",
    "np.random.seed(998)\n",
    "indexres = np.random.choice(indexarr, size=150, replace=False, p=None)\n",
    "randmarry = pddata.loc[indexres,]\n",
    "randmarry.to_excel(XLSX_DATA_FILEt,'Sheet1')"
   ]
  },
  {
   "cell_type": "markdown",
   "metadata": {},
   "source": [
    "### 2. 子评论"
   ]
  },
  {
   "cell_type": "code",
   "execution_count": null,
   "metadata": {},
   "outputs": [],
   "source": [
    "TXT_DATA_FILEo = patho + 'zpl_txnewout_zl_pl.txt'\n",
    "TXT_DATA_FILE2o = patho + 'seg.txt'\n",
    "XLSX_DATA_FILEo = patho + 'sematic_train.xlsx'\n",
    "CSV_DATA_FILEt = patht + inp + 'test_alll.csv'\n",
    "# 列的提取\n",
    "# data = np.loadtxt(open(TXT_DATA_FILEo, \"r\") ,usecols =(1,4,5), dtype=np.str, delimiter=\"\\t\", skiprows=0)\n",
    "rowname = np.loadtxt(open(TXT_DATA_FILE2o, \"r\"),dtype=np.str, delimiter=\"\\t\", skiprows=0)\n",
    "# data = pd.read_excel(io=XLSX_DATA_FILEo, sheet_name='爬虫数据', header=0)\n",
    "pddata = pd.read_table(TXT_DATA_FILEo,encoding='utf-8',delimiter=\"\\t\")\n",
    "pddata.columns = rowname\n",
    "# print(pddata.columns)\n",
    "# print(rowname[-1])\n",
    "pddata = pddata.loc[:, [\"评论内容\",\"评论数\",\"点赞数\",rowname[-1]]]\n",
    "pddata = pddata[(~pddata[\"评论内容\"].isnull())]\n",
    "pdsubdata = pddata[(~pddata[rowname[-1]].isnull())]\n",
    "del pddata[rowname[-1]]\n",
    "\n",
    "nuuu=0\n",
    "print(pddata.shape)\n",
    "print(pdsubdata.shape)\n",
    "start = time.time()\n",
    "for topic in pdsubdata[rowname[-1]]:\n",
    "    # 解析每个话题\n",
    "    nuuu+=1\n",
    "    if nuuu%1000==0:\n",
    "        print(nuuu)\n",
    "    commd = topic.split(\"$!$\")\n",
    "    commd = [ i for i in commd if i!=\"\"]\n",
    "    for sstrr in commd:\n",
    "        sstrr = sstrr.split(\"|!|\")\n",
    "        row = pd.DataFrame([[sstrr[6], 0, sstrr[7]]], columns=[\"评论内容\",\"评论数\",\"点赞数\"])\n",
    "        pddata.append(row,ignore_index=True)\n",
    "end = time.time()\n",
    "print(end-start)\n",
    "pddata.to_csv(CSV_DATA_FILEt, index=False, header=True,  encoding=\"utf-8\")"
   ]
  },
  {
   "cell_type": "markdown",
   "metadata": {},
   "source": [
    "### 3. 单评论"
   ]
  },
  {
   "cell_type": "code",
   "execution_count": null,
   "metadata": {},
   "outputs": [],
   "source": [
    "# TXT_DATA_FILEo = patho + 'sematic_train.txt'\n",
    "# XLSX_DATA_FILEo = patho + 'sematic_train.xlsx'\n",
    "# CSV_DATA_FILEt = patht + inp + 'sematic_train.csv'\n",
    "\n",
    "# # 列的提取\n",
    "# # my_matrix = np.loadtxt(open(TXT_DATA_FILE, \"r\"),usecols = （1,4,5）, dtype=np.str, delimiter=\"\\t\", skiprows=0)\n",
    "# data = pd.read_excel(io=XLSX_DATA_FILEo, sheet_name='爬虫数据', header=0)\n",
    "# data=data.loc[:, [\"评论内容\",\"评论数\",\"点赞数\"]]\n",
    "# data[\"分类\"] = 1\n",
    "# data.to_csv(CSV_DATA_FILEt,index=False,header=True,  encoding=\"utf-8\")"
   ]
  },
  {
   "cell_type": "code",
   "execution_count": null,
   "metadata": {},
   "outputs": [],
   "source": [
    "print(\"end\")"
   ]
  }
 ],
 "metadata": {
  "kernelspec": {
   "display_name": "Python 3",
   "language": "python",
   "name": "python3"
  },
  "language_info": {
   "codemirror_mode": {
    "name": "ipython",
    "version": 3
   },
   "file_extension": ".py",
   "mimetype": "text/x-python",
   "name": "python",
   "nbconvert_exporter": "python",
   "pygments_lexer": "ipython3",
   "version": "3.6.5"
  }
 },
 "nbformat": 4,
 "nbformat_minor": 2
}
