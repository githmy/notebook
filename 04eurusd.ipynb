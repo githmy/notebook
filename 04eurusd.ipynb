{
 "cells": [
  {
   "cell_type": "code",
   "execution_count": 1,
   "metadata": {
    "_cell_guid": "b17482b3-0a14-4f8a-a814-c726f9c5e89b",
    "_uuid": "7c85004c1ef55200edbeec46914b834ce3f7f44d"
   },
   "outputs": [],
   "source": [
    "#I try to predict values not used in a model to predict results.\n",
    "#Internet is plenty of models using X_test to predict.\n",
    "#However, I havent seen a lot of models using data outside the model\n",
    "#Thank you"
   ]
  },
  {
   "cell_type": "code",
   "execution_count": 2,
   "metadata": {
    "_cell_guid": "43372983-d1cd-43fc-a0fb-fdc59c622212",
    "_uuid": "017af90af06f6f28d78e87b5a8c129c2685e95cf"
   },
   "outputs": [
    {
     "name": "stderr",
     "output_type": "stream",
     "text": [
      "/root/anaconda2/envs/mla36/lib/python3.6/site-packages/h5py/__init__.py:36: FutureWarning: Conversion of the second argument of issubdtype from `float` to `np.floating` is deprecated. In future, it will be treated as `np.float64 == np.dtype(float).type`.\n",
      "  from ._conv import register_converters as _register_converters\n",
      "Using TensorFlow backend.\n"
     ]
    },
    {
     "name": "stdout",
     "output_type": "stream",
     "text": [
      "EURUSD1440.csv\n",
      "EURUSD_2017.csv\n",
      "\n"
     ]
    }
   ],
   "source": [
    "# This Python 3 environment comes with many helpful analytics libraries installed\n",
    "# It is defined by the kaggle/python docker image: https://github.com/kaggle/docker-python\n",
    "# For example, here's several helpful packages to load in \n",
    "\n",
    "import numpy as np # linear algebra\n",
    "import pandas as pd # data processing, CSV file I/O (e.g. pd.read_csv)\n",
    "import matplotlib.pyplot as plt\n",
    "from sklearn import preprocessing\n",
    "from keras.models import Sequential\n",
    "from keras.layers.core import Dense, Dropout, Activation\n",
    "from keras.layers.recurrent import LSTM\n",
    "\n",
    "\n",
    "# Input data files are available in the \"../input/\" directory.\n",
    "# For example, running this (by clicking run or pressing Shift+Enter) will list the files in the input directory\n",
    "\n",
    "from subprocess import check_output\n",
    "print(check_output([\"ls\", \"../input/EURUSD\"]).decode(\"utf8\"))\n",
    "\n",
    "# Any results you write to the current directory are saved as output."
   ]
  },
  {
   "cell_type": "code",
   "execution_count": 3,
   "metadata": {
    "_cell_guid": "cc819bd0-f5c9-4c1e-aeb8-46c6321f9b1d",
    "_uuid": "ebd2fdb99efe392cd0f0b1251f434f66074ecf4a"
   },
   "outputs": [],
   "source": [
    "seq_len = 25\n",
    "d = 0.5 #dropout\n",
    "shape = [4, seq_len, 1] # feature, window, output\n",
    "neurons = [128, 128, 32, 1]\n",
    "epochs = 75\n",
    "dropout=0.6\n",
    "stock_name='../input/EURUSD/EURUSD1440.csv'"
   ]
  },
  {
   "cell_type": "code",
   "execution_count": 4,
   "metadata": {
    "_cell_guid": "2741a0d7-0229-404c-a05e-8c9325a6582d",
    "_uuid": "42c634cc435b1f2ba361c9cffab537af5aa0636b"
   },
   "outputs": [],
   "source": [
    "def get_stock_data(stock_name,inicio='2012',final='2016', normalize=True):\n",
    "    \n",
    "    df=pd.read_csv(stock_name,names=['Date','Open','High','Low','Close'],usecols=[0,2,3,4,5],index_col=[0])\n",
    "    df=df.loc[inicio:final]\n",
    "\n",
    "    df.reset_index(inplace=True,drop=True)\n",
    "    if normalize:        \n",
    "        min_max_scaler = preprocessing.MinMaxScaler()\n",
    "        df['Open'] = min_max_scaler.fit_transform(df.Open.values.reshape(-1,1))\n",
    "        df['High'] = min_max_scaler.fit_transform(df.High.values.reshape(-1,1))\n",
    "        df['Low'] = min_max_scaler.fit_transform(df.Low.values.reshape(-1,1))\n",
    "        df['Close'] = min_max_scaler.fit_transform(df['Close'].values.reshape(-1,1))\n",
    "    return df"
   ]
  },
  {
   "cell_type": "code",
   "execution_count": 5,
   "metadata": {
    "_cell_guid": "cbb29a21-2882-4d2e-a5b1-c2a809c7c0a7",
    "_uuid": "7c6294d60dfad7f59052bf0b1ce4bfb353af48bd"
   },
   "outputs": [],
   "source": [
    "# Formulas to make LSTM model\n",
    "def load_data(stock, seq_len,train_split=0.9):\n",
    "    amount_of_features = len(stock.columns)\n",
    "    data = stock.as_matrix() \n",
    "    sequence_length = seq_len + 1 # index starting from 0 esto se hace ya que el indice empieza por 0 entonces quedaria\n",
    "\n",
    "    result = []\n",
    "    for index in range(len(data) - sequence_length): # maxmimum date = lastest date - sequence length\n",
    "        result.append(data[index: index + sequence_length]) # index : index + 22days \n",
    "    result = np.array(result)\n",
    "    row = round(train_split * result.shape[0]) # 90% split\n",
    "    \n",
    "    train = result[:int(row), :] # 90% date\n",
    "    X_train = train[:, :-1] # all data until day m\n",
    "    y_train = train[:, -1][:,-1] \n",
    "    \n",
    "\n",
    "\n",
    "    \n",
    "    X_test = result[int(row):, :-1]\n",
    "    y_test = result[int(row):, -1][:,-1] \n",
    "\n",
    "    X_train = np.reshape(X_train, (X_train.shape[0], X_train.shape[1], amount_of_features))\n",
    "    X_test = np.reshape(X_test, (X_test.shape[0], X_test.shape[1], amount_of_features))  \n",
    "\n",
    "    return [X_train, y_train, X_test, y_test]\n",
    "\n",
    "\n",
    "def build_model2(layers, neurons, d):\n",
    "    model = Sequential()\n",
    "    \n",
    "    model.add(LSTM(neurons[0], input_shape=(layers[1], layers[0]), return_sequences=True))\n",
    "    model.add(Dropout(d))\n",
    "        \n",
    "    model.add(LSTM(neurons[1], input_shape=(layers[1], layers[0]), return_sequences=False))\n",
    "    model.add(Dropout(d))\n",
    "        \n",
    "    model.add(Dense(neurons[2],kernel_initializer=\"uniform\",activation='relu'))        \n",
    "    model.add(Dense(neurons[3],kernel_initializer=\"uniform\",activation='linear'))\n",
    "    model.compile(loss='mse',optimizer='adam', metrics=['accuracy'])\n",
    "    model.summary()\n",
    "    return model"
   ]
  },
  {
   "cell_type": "code",
   "execution_count": 6,
   "metadata": {
    "_cell_guid": "7995a8a6-d95f-4f55-b461-82b4615bf08e",
    "_uuid": "b0842a06547988fe4f957fe164a8e68c6c538963"
   },
   "outputs": [],
   "source": [
    "df = get_stock_data(stock_name,inicio='2013',final='2016', normalize=True)\n",
    "df_denormalize = get_stock_data(stock_name,inicio='2013',final='2016',normalize=False)"
   ]
  },
  {
   "cell_type": "code",
   "execution_count": null,
   "metadata": {
    "_cell_guid": "9b88059d-f37d-4255-92e2-8242664e2dc9",
    "_uuid": "657a6311b91efd93a0b09a8a716f2bdbec661f04"
   },
   "outputs": [
    {
     "name": "stdout",
     "output_type": "stream",
     "text": [
      "_________________________________________________________________\n",
      "Layer (type)                 Output Shape              Param #   \n",
      "=================================================================\n",
      "lstm_1 (LSTM)                (None, 25, 128)           68096     \n",
      "_________________________________________________________________\n",
      "dropout_1 (Dropout)          (None, 25, 128)           0         \n",
      "_________________________________________________________________\n",
      "lstm_2 (LSTM)                (None, 128)               131584    \n",
      "_________________________________________________________________\n",
      "dropout_2 (Dropout)          (None, 128)               0         \n",
      "_________________________________________________________________\n",
      "dense_1 (Dense)              (None, 32)                4128      \n",
      "_________________________________________________________________\n",
      "dense_2 (Dense)              (None, 1)                 33        \n",
      "=================================================================\n",
      "Total params: 203,841\n",
      "Trainable params: 203,841\n",
      "Non-trainable params: 0\n",
      "_________________________________________________________________\n",
      "Train on 610 samples, validate on 68 samples\n",
      "Epoch 1/75\n",
      "610/610 [==============================] - 10s 16ms/step - loss: 0.5536 - acc: 0.0016 - val_loss: 0.0339 - val_acc: 0.0000e+00\n",
      "Epoch 2/75\n",
      "610/610 [==============================] - 3s 4ms/step - loss: 0.5243 - acc: 0.0016 - val_loss: 0.0293 - val_acc: 0.0000e+00\n",
      "Epoch 3/75\n",
      "610/610 [==============================] - 2s 4ms/step - loss: 0.4640 - acc: 0.0016 - val_loss: 0.0187 - val_acc: 0.0000e+00\n",
      "Epoch 4/75\n",
      "610/610 [==============================] - 2s 3ms/step - loss: 0.3416 - acc: 0.0016 - val_loss: 0.0025 - val_acc: 0.0000e+00\n",
      "Epoch 5/75\n",
      "610/610 [==============================] - 2s 3ms/step - loss: 0.1971 - acc: 0.0016 - val_loss: 0.0562 - val_acc: 0.0000e+00\n",
      "Epoch 6/75\n",
      "610/610 [==============================] - 2s 3ms/step - loss: 0.1023 - acc: 0.0016 - val_loss: 0.2096 - val_acc: 0.0000e+00\n",
      "Epoch 7/75\n",
      "610/610 [==============================] - 2s 3ms/step - loss: 0.0689 - acc: 0.0016 - val_loss: 0.4287 - val_acc: 0.0000e+00\n",
      "Epoch 8/75\n",
      "610/610 [==============================] - 2s 3ms/step - loss: 0.1061 - acc: 0.0016 - val_loss: 0.4830 - val_acc: 0.0000e+00\n",
      "Epoch 9/75\n",
      "610/610 [==============================] - 2s 3ms/step - loss: 0.1177 - acc: 0.0016 - val_loss: 0.3829 - val_acc: 0.0000e+00\n",
      "Epoch 10/75\n",
      "610/610 [==============================] - 2s 3ms/step - loss: 0.0894 - acc: 0.0016 - val_loss: 0.2708 - val_acc: 0.0000e+00\n",
      "Epoch 11/75\n",
      "610/610 [==============================] - 2s 3ms/step - loss: 0.0703 - acc: 0.0016 - val_loss: 0.1927 - val_acc: 0.0000e+00\n",
      "Epoch 12/75\n",
      "610/610 [==============================] - 2s 4ms/step - loss: 0.0717 - acc: 0.0016 - val_loss: 0.1484 - val_acc: 0.0000e+00\n",
      "Epoch 13/75\n",
      "610/610 [==============================] - 2s 4ms/step - loss: 0.0794 - acc: 0.0016 - val_loss: 0.1323 - val_acc: 0.0000e+00\n",
      "Epoch 14/75\n",
      "610/610 [==============================] - 2s 3ms/step - loss: 0.0835 - acc: 0.0000e+00 - val_loss: 0.1340 - val_acc: 0.0000e+00\n",
      "Epoch 15/75\n",
      "610/610 [==============================] - 2s 3ms/step - loss: 0.0799 - acc: 0.0033 - val_loss: 0.1482 - val_acc: 0.0000e+00\n",
      "Epoch 16/75\n",
      "610/610 [==============================] - 2s 3ms/step - loss: 0.0718 - acc: 0.0033 - val_loss: 0.1715 - val_acc: 0.0000e+00\n",
      "Epoch 17/75\n",
      "610/610 [==============================] - 2s 3ms/step - loss: 0.0675 - acc: 0.0016 - val_loss: 0.1977 - val_acc: 0.0000e+00\n",
      "Epoch 18/75\n",
      "610/610 [==============================] - 2s 3ms/step - loss: 0.0622 - acc: 0.0016 - val_loss: 0.2189 - val_acc: 0.0000e+00\n",
      "Epoch 19/75\n",
      "610/610 [==============================] - 2s 3ms/step - loss: 0.0628 - acc: 0.0016 - val_loss: 0.2244 - val_acc: 0.0000e+00\n",
      "Epoch 20/75\n",
      "610/610 [==============================] - 2s 3ms/step - loss: 0.0626 - acc: 0.0016 - val_loss: 0.2087 - val_acc: 0.0000e+00\n",
      "Epoch 21/75\n",
      "610/610 [==============================] - 2s 3ms/step - loss: 0.0591 - acc: 0.0016 - val_loss: 0.1821 - val_acc: 0.0000e+00\n",
      "Epoch 22/75\n",
      "610/610 [==============================] - 2s 3ms/step - loss: 0.0534 - acc: 0.0016 - val_loss: 0.1552 - val_acc: 0.0000e+00\n",
      "Epoch 23/75\n",
      "610/610 [==============================] - 2s 3ms/step - loss: 0.0503 - acc: 0.0016 - val_loss: 0.1327 - val_acc: 0.0000e+00\n",
      "Epoch 24/75\n",
      "610/610 [==============================] - 2s 3ms/step - loss: 0.0442 - acc: 0.0033 - val_loss: 0.1117 - val_acc: 0.0000e+00\n",
      "Epoch 25/75\n",
      "610/610 [==============================] - 2s 3ms/step - loss: 0.0378 - acc: 0.0016 - val_loss: 0.0874 - val_acc: 0.0000e+00\n",
      "Epoch 26/75\n",
      "610/610 [==============================] - 2s 3ms/step - loss: 0.0307 - acc: 0.0033 - val_loss: 0.0610 - val_acc: 0.0000e+00\n",
      "Epoch 27/75\n",
      "610/610 [==============================] - 2s 3ms/step - loss: 0.0214 - acc: 0.0033 - val_loss: 0.0310 - val_acc: 0.0000e+00\n",
      "Epoch 28/75\n",
      "610/610 [==============================] - 2s 3ms/step - loss: 0.0182 - acc: 0.0033 - val_loss: 0.0080 - val_acc: 0.0000e+00\n",
      "Epoch 29/75\n",
      "610/610 [==============================] - 2s 4ms/step - loss: 0.0156 - acc: 0.0033 - val_loss: 0.0148 - val_acc: 0.0000e+00\n",
      "Epoch 30/75\n",
      "610/610 [==============================] - 2s 4ms/step - loss: 0.0151 - acc: 0.0033 - val_loss: 0.0272 - val_acc: 0.0000e+00\n",
      "Epoch 31/75\n",
      "610/610 [==============================] - 2s 3ms/step - loss: 0.0158 - acc: 0.0033 - val_loss: 0.0278 - val_acc: 0.0000e+00\n",
      "Epoch 32/75\n",
      "610/610 [==============================] - 2s 3ms/step - loss: 0.0136 - acc: 0.0033 - val_loss: 0.0249 - val_acc: 0.0000e+00\n",
      "Epoch 33/75\n",
      "610/610 [==============================] - 3s 4ms/step - loss: 0.0138 - acc: 0.0033 - val_loss: 0.0196 - val_acc: 0.0000e+00\n",
      "Epoch 34/75\n",
      "610/610 [==============================] - 2s 4ms/step - loss: 0.0122 - acc: 0.0033 - val_loss: 0.0145 - val_acc: 0.0000e+00\n",
      "Epoch 35/75\n",
      "610/610 [==============================] - 2s 4ms/step - loss: 0.0123 - acc: 0.0033 - val_loss: 0.0105 - val_acc: 0.0000e+00\n",
      "Epoch 36/75\n",
      "610/610 [==============================] - 2s 3ms/step - loss: 0.0106 - acc: 0.0033 - val_loss: 0.0070 - val_acc: 0.0000e+00\n",
      "Epoch 37/75\n",
      "610/610 [==============================] - 2s 3ms/step - loss: 0.0112 - acc: 0.0033 - val_loss: 0.0046 - val_acc: 0.0000e+00\n",
      "Epoch 38/75\n",
      "610/610 [==============================] - 2s 3ms/step - loss: 0.0101 - acc: 0.0033 - val_loss: 0.0037 - val_acc: 0.0000e+00\n",
      "Epoch 39/75\n",
      "610/610 [==============================] - 2s 3ms/step - loss: 0.0096 - acc: 0.0033 - val_loss: 0.0033 - val_acc: 0.0000e+00\n",
      "Epoch 40/75\n",
      "610/610 [==============================] - 2s 3ms/step - loss: 0.0121 - acc: 0.0033 - val_loss: 0.0031 - val_acc: 0.0000e+00\n",
      "Epoch 41/75\n",
      "610/610 [==============================] - 2s 3ms/step - loss: 0.0121 - acc: 0.0033 - val_loss: 0.0029 - val_acc: 0.0000e+00\n",
      "Epoch 42/75\n",
      "610/610 [==============================] - 2s 3ms/step - loss: 0.0100 - acc: 0.0033 - val_loss: 0.0032 - val_acc: 0.0000e+00\n",
      "Epoch 43/75\n",
      "610/610 [==============================] - 2s 3ms/step - loss: 0.0101 - acc: 0.0033 - val_loss: 0.0037 - val_acc: 0.0000e+00\n",
      "Epoch 44/75\n",
      "610/610 [==============================] - 2s 3ms/step - loss: 0.0099 - acc: 0.0033 - val_loss: 0.0035 - val_acc: 0.0000e+00\n",
      "Epoch 45/75\n",
      "610/610 [==============================] - 2s 3ms/step - loss: 0.0115 - acc: 0.0033 - val_loss: 0.0040 - val_acc: 0.0000e+00\n",
      "Epoch 46/75\n",
      "610/610 [==============================] - 2s 3ms/step - loss: 0.0079 - acc: 0.0033 - val_loss: 0.0042 - val_acc: 0.0000e+00\n",
      "Epoch 47/75\n",
      "610/610 [==============================] - 2s 3ms/step - loss: 0.0105 - acc: 0.0033 - val_loss: 0.0030 - val_acc: 0.0000e+00\n",
      "Epoch 48/75\n",
      "610/610 [==============================] - 2s 3ms/step - loss: 0.0093 - acc: 0.0033 - val_loss: 0.0024 - val_acc: 0.0000e+00\n",
      "Epoch 49/75\n",
      "610/610 [==============================] - 2s 3ms/step - loss: 0.0079 - acc: 0.0033 - val_loss: 0.0022 - val_acc: 0.0000e+00\n",
      "Epoch 50/75\n",
      "610/610 [==============================] - 2s 3ms/step - loss: 0.0085 - acc: 0.0033 - val_loss: 0.0019 - val_acc: 0.0000e+00\n",
      "Epoch 51/75\n",
      "610/610 [==============================] - 2s 3ms/step - loss: 0.0083 - acc: 0.0033 - val_loss: 0.0017 - val_acc: 0.0000e+00\n",
      "Epoch 52/75\n"
     ]
    },
    {
     "name": "stdout",
     "output_type": "stream",
     "text": [
      "610/610 [==============================] - 2s 3ms/step - loss: 0.0087 - acc: 0.0033 - val_loss: 0.0017 - val_acc: 0.0000e+00\n",
      "Epoch 53/75\n",
      "610/610 [==============================] - 2s 3ms/step - loss: 0.0083 - acc: 0.0033 - val_loss: 0.0017 - val_acc: 0.0000e+00\n",
      "Epoch 54/75\n",
      "610/610 [==============================] - 2s 3ms/step - loss: 0.0092 - acc: 0.0033 - val_loss: 0.0016 - val_acc: 0.0000e+00\n",
      "Epoch 55/75\n",
      "610/610 [==============================] - 2s 3ms/step - loss: 0.0087 - acc: 0.0033 - val_loss: 0.0016 - val_acc: 0.0000e+00\n",
      "Epoch 56/75\n",
      "610/610 [==============================] - 2s 3ms/step - loss: 0.0077 - acc: 0.0033 - val_loss: 0.0016 - val_acc: 0.0000e+00\n",
      "Epoch 57/75\n",
      "610/610 [==============================] - 2s 3ms/step - loss: 0.0081 - acc: 0.0033 - val_loss: 0.0015 - val_acc: 0.0000e+00\n",
      "Epoch 58/75\n",
      "610/610 [==============================] - 2s 3ms/step - loss: 0.0080 - acc: 0.0033 - val_loss: 0.0015 - val_acc: 0.0000e+00\n",
      "Epoch 59/75\n",
      "610/610 [==============================] - 2s 3ms/step - loss: 0.0068 - acc: 0.0033 - val_loss: 0.0015 - val_acc: 0.0000e+00\n",
      "Epoch 60/75\n",
      "610/610 [==============================] - 2s 3ms/step - loss: 0.0080 - acc: 0.0033 - val_loss: 0.0015 - val_acc: 0.0000e+00\n",
      "Epoch 61/75\n"
     ]
    }
   ],
   "source": [
    "X_train, y_train, X_test, y_test = load_data(df, seq_len,train_split=0.9)\n",
    "\n",
    "model3 = build_model2(shape, neurons, d)\n",
    "\n",
    "X_train, y_train, X_test, y_test = load_data(df, seq_len,train_split=0.9)\n",
    "\n",
    "model3.fit(X_train,y_train,batch_size=512,epochs=epochs,validation_split=0.1,verbose=1)"
   ]
  },
  {
   "cell_type": "code",
   "execution_count": null,
   "metadata": {
    "_cell_guid": "553f3507-1a2b-40c6-b7e1-e1ee32ea7a57",
    "_uuid": "3b9a2724bb169525f81eeb46ebc7eb53bde92e41"
   },
   "outputs": [],
   "source": [
    "# Making predictions with new data not used in the model\n",
    "\n",
    "def datos_predecir(file='../input/EURUSD/EURUSD_2017.csv',normalise=True):\n",
    "    df=pd.read_csv(file,usecols=[1,2,3,4,5],index_col=[0])\n",
    "    df.reset_index(inplace=True,drop=True)  \n",
    "    if normalise==True:\n",
    "        min_max_scaler = preprocessing.MinMaxScaler()\n",
    "        df['Open'] = min_max_scaler.fit_transform(df.Open.values.reshape(-1,1))\n",
    "        df['High'] = min_max_scaler.fit_transform(df.High.values.reshape(-1,1))\n",
    "        df['Low'] = min_max_scaler.fit_transform(df.Low.values.reshape(-1,1))\n",
    "        df['Close'] = min_max_scaler.fit_transform(df['Close'].values.reshape(-1,1))\n",
    "    return df"
   ]
  },
  {
   "cell_type": "code",
   "execution_count": null,
   "metadata": {
    "_cell_guid": "31c5cf51-270f-4302-8c37-6aebc0417dd3",
    "_uuid": "07c2ed1a36cfacd361e51243bcb720d4076bebb7"
   },
   "outputs": [],
   "source": [
    "predict_data_norm=datos_predecir()\n",
    "predict_data_denorm=datos_predecir(normalise=False)"
   ]
  },
  {
   "cell_type": "code",
   "execution_count": null,
   "metadata": {
    "_cell_guid": "a4fac547-7e37-476d-ab6a-e4864076fb06",
    "_uuid": "bfb991858001edd77bdd99005a8b458f0c8f1893"
   },
   "outputs": [],
   "source": [
    "predict_data_length=[]\n",
    "data=predict_data_norm.as_matrix()\n",
    "for index in range(len(data)-seq_len):\n",
    "    predict_data_length.append(data[index: seq_len + index])\n",
    "\n",
    "datos_predecir=np.array(predict_data_length)\n",
    "\n",
    "prediccion=model3.predict(datos_predecir)\n",
    "plt.plot(prediccion)\n",
    "plt.plot(predict_data_norm['Close'])\n",
    "plt.show()"
   ]
  },
  {
   "cell_type": "code",
   "execution_count": null,
   "metadata": {
    "_cell_guid": "38b05cef-b4ef-420c-94e1-355e6a8a0527",
    "_uuid": "907c6e5fe1510c86770e8efa53e1e6f1b6b7d83c"
   },
   "outputs": [],
   "source": [
    ""
   ]
  }
 ],
 "metadata": {
  "kernelspec": {
   "display_name": "Python 3",
   "language": "python",
   "name": "python3"
  },
  "language_info": {
   "codemirror_mode": {
    "name": "ipython",
    "version": 3.0
   },
   "file_extension": ".py",
   "mimetype": "text/x-python",
   "name": "python",
   "nbconvert_exporter": "python",
   "pygments_lexer": "ipython3",
   "version": "3.6.5"
  }
 },
 "nbformat": 4,
 "nbformat_minor": 0
}